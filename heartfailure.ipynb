{
 "cells": [
  {
   "cell_type": "code",
   "execution_count": 1,
   "id": "b364ebe3",
   "metadata": {
    "_cell_guid": "b1076dfc-b9ad-4769-8c92-a6c4dae69d19",
    "_uuid": "8f2839f25d086af736a60e9eeb907d3b93b6e0e5",
    "execution": {
     "iopub.execute_input": "2025-07-20T08:41:40.760399Z",
     "iopub.status.busy": "2025-07-20T08:41:40.760100Z",
     "iopub.status.idle": "2025-07-20T08:41:42.552854Z",
     "shell.execute_reply": "2025-07-20T08:41:42.551749Z"
    },
    "papermill": {
     "duration": 1.800972,
     "end_time": "2025-07-20T08:41:42.554308",
     "exception": false,
     "start_time": "2025-07-20T08:41:40.753336",
     "status": "completed"
    },
    "tags": []
   },
   "outputs": [
    {
     "name": "stdout",
     "output_type": "stream",
     "text": [
      "/kaggle/input/heart-failure-prediction/heart.csv\n"
     ]
    }
   ],
   "source": [
    "# This Python 3 environment comes with many helpful analytics libraries installed\n",
    "# It is defined by the kaggle/python Docker image: https://github.com/kaggle/docker-python\n",
    "# For example, here's several helpful packages to load\n",
    "\n",
    "import numpy as np # linear algebra\n",
    "import pandas as pd # data processing, CSV file I/O (e.g. pd.read_csv)\n",
    "\n",
    "# Input data files are available in the read-only \"../input/\" directory\n",
    "# For example, running this (by clicking run or pressing Shift+Enter) will list all files under the input directory\n",
    "\n",
    "import os\n",
    "for dirname, _, filenames in os.walk('/kaggle/input'):\n",
    "    for filename in filenames:\n",
    "        print(os.path.join(dirname, filename))\n",
    "\n",
    "# You can write up to 20GB to the current directory (/kaggle/working/) that gets preserved as output when you create a version using \"Save & Run All\" \n",
    "# You can also write temporary files to /kaggle/temp/, but they won't be saved outside of the current session"
   ]
  },
  {
   "cell_type": "code",
   "execution_count": 2,
   "id": "92a9e556",
   "metadata": {
    "execution": {
     "iopub.execute_input": "2025-07-20T08:41:42.564973Z",
     "iopub.status.busy": "2025-07-20T08:41:42.564178Z",
     "iopub.status.idle": "2025-07-20T08:41:44.559887Z",
     "shell.execute_reply": "2025-07-20T08:41:44.558963Z"
    },
    "papermill": {
     "duration": 2.002558,
     "end_time": "2025-07-20T08:41:44.561611",
     "exception": false,
     "start_time": "2025-07-20T08:41:42.559053",
     "status": "completed"
    },
    "tags": []
   },
   "outputs": [],
   "source": [
    "import pandas as pd \n",
    "from sklearn.linear_model import LogisticRegression\n",
    "from sklearn.naive_bayes import GaussianNB\n",
    "from sklearn.ensemble import VotingClassifier,RandomForestClassifier\n",
    "from sklearn.preprocessing import LabelEncoder\n",
    "from sklearn.model_selection import train_test_split\n",
    "from sklearn.metrics import accuracy_score,confusion_matrix"
   ]
  },
  {
   "cell_type": "code",
   "execution_count": 3,
   "id": "c3104648",
   "metadata": {
    "execution": {
     "iopub.execute_input": "2025-07-20T08:41:44.571809Z",
     "iopub.status.busy": "2025-07-20T08:41:44.571319Z",
     "iopub.status.idle": "2025-07-20T08:41:44.593972Z",
     "shell.execute_reply": "2025-07-20T08:41:44.593120Z"
    },
    "papermill": {
     "duration": 0.029264,
     "end_time": "2025-07-20T08:41:44.595475",
     "exception": false,
     "start_time": "2025-07-20T08:41:44.566211",
     "status": "completed"
    },
    "tags": []
   },
   "outputs": [],
   "source": [
    "df = pd.read_csv(\"/kaggle/input/heart-failure-prediction/heart.csv\")"
   ]
  },
  {
   "cell_type": "code",
   "execution_count": 4,
   "id": "bd3520a3",
   "metadata": {
    "execution": {
     "iopub.execute_input": "2025-07-20T08:41:44.605538Z",
     "iopub.status.busy": "2025-07-20T08:41:44.604960Z",
     "iopub.status.idle": "2025-07-20T08:41:44.629520Z",
     "shell.execute_reply": "2025-07-20T08:41:44.628736Z"
    },
    "papermill": {
     "duration": 0.031126,
     "end_time": "2025-07-20T08:41:44.631034",
     "exception": false,
     "start_time": "2025-07-20T08:41:44.599908",
     "status": "completed"
    },
    "tags": []
   },
   "outputs": [
    {
     "data": {
      "text/html": [
       "<div>\n",
       "<style scoped>\n",
       "    .dataframe tbody tr th:only-of-type {\n",
       "        vertical-align: middle;\n",
       "    }\n",
       "\n",
       "    .dataframe tbody tr th {\n",
       "        vertical-align: top;\n",
       "    }\n",
       "\n",
       "    .dataframe thead th {\n",
       "        text-align: right;\n",
       "    }\n",
       "</style>\n",
       "<table border=\"1\" class=\"dataframe\">\n",
       "  <thead>\n",
       "    <tr style=\"text-align: right;\">\n",
       "      <th></th>\n",
       "      <th>Age</th>\n",
       "      <th>Sex</th>\n",
       "      <th>ChestPainType</th>\n",
       "      <th>RestingBP</th>\n",
       "      <th>Cholesterol</th>\n",
       "      <th>FastingBS</th>\n",
       "      <th>RestingECG</th>\n",
       "      <th>MaxHR</th>\n",
       "      <th>ExerciseAngina</th>\n",
       "      <th>Oldpeak</th>\n",
       "      <th>ST_Slope</th>\n",
       "      <th>HeartDisease</th>\n",
       "    </tr>\n",
       "  </thead>\n",
       "  <tbody>\n",
       "    <tr>\n",
       "      <th>0</th>\n",
       "      <td>40</td>\n",
       "      <td>M</td>\n",
       "      <td>ATA</td>\n",
       "      <td>140</td>\n",
       "      <td>289</td>\n",
       "      <td>0</td>\n",
       "      <td>Normal</td>\n",
       "      <td>172</td>\n",
       "      <td>N</td>\n",
       "      <td>0.0</td>\n",
       "      <td>Up</td>\n",
       "      <td>0</td>\n",
       "    </tr>\n",
       "    <tr>\n",
       "      <th>1</th>\n",
       "      <td>49</td>\n",
       "      <td>F</td>\n",
       "      <td>NAP</td>\n",
       "      <td>160</td>\n",
       "      <td>180</td>\n",
       "      <td>0</td>\n",
       "      <td>Normal</td>\n",
       "      <td>156</td>\n",
       "      <td>N</td>\n",
       "      <td>1.0</td>\n",
       "      <td>Flat</td>\n",
       "      <td>1</td>\n",
       "    </tr>\n",
       "    <tr>\n",
       "      <th>2</th>\n",
       "      <td>37</td>\n",
       "      <td>M</td>\n",
       "      <td>ATA</td>\n",
       "      <td>130</td>\n",
       "      <td>283</td>\n",
       "      <td>0</td>\n",
       "      <td>ST</td>\n",
       "      <td>98</td>\n",
       "      <td>N</td>\n",
       "      <td>0.0</td>\n",
       "      <td>Up</td>\n",
       "      <td>0</td>\n",
       "    </tr>\n",
       "    <tr>\n",
       "      <th>3</th>\n",
       "      <td>48</td>\n",
       "      <td>F</td>\n",
       "      <td>ASY</td>\n",
       "      <td>138</td>\n",
       "      <td>214</td>\n",
       "      <td>0</td>\n",
       "      <td>Normal</td>\n",
       "      <td>108</td>\n",
       "      <td>Y</td>\n",
       "      <td>1.5</td>\n",
       "      <td>Flat</td>\n",
       "      <td>1</td>\n",
       "    </tr>\n",
       "    <tr>\n",
       "      <th>4</th>\n",
       "      <td>54</td>\n",
       "      <td>M</td>\n",
       "      <td>NAP</td>\n",
       "      <td>150</td>\n",
       "      <td>195</td>\n",
       "      <td>0</td>\n",
       "      <td>Normal</td>\n",
       "      <td>122</td>\n",
       "      <td>N</td>\n",
       "      <td>0.0</td>\n",
       "      <td>Up</td>\n",
       "      <td>0</td>\n",
       "    </tr>\n",
       "  </tbody>\n",
       "</table>\n",
       "</div>"
      ],
      "text/plain": [
       "   Age Sex ChestPainType  RestingBP  Cholesterol  FastingBS RestingECG  MaxHR  \\\n",
       "0   40   M           ATA        140          289          0     Normal    172   \n",
       "1   49   F           NAP        160          180          0     Normal    156   \n",
       "2   37   M           ATA        130          283          0         ST     98   \n",
       "3   48   F           ASY        138          214          0     Normal    108   \n",
       "4   54   M           NAP        150          195          0     Normal    122   \n",
       "\n",
       "  ExerciseAngina  Oldpeak ST_Slope  HeartDisease  \n",
       "0              N      0.0       Up             0  \n",
       "1              N      1.0     Flat             1  \n",
       "2              N      0.0       Up             0  \n",
       "3              Y      1.5     Flat             1  \n",
       "4              N      0.0       Up             0  "
      ]
     },
     "execution_count": 4,
     "metadata": {},
     "output_type": "execute_result"
    }
   ],
   "source": [
    "df.head()"
   ]
  },
  {
   "cell_type": "code",
   "execution_count": 5,
   "id": "6767fc4c",
   "metadata": {
    "execution": {
     "iopub.execute_input": "2025-07-20T08:41:44.641974Z",
     "iopub.status.busy": "2025-07-20T08:41:44.641068Z",
     "iopub.status.idle": "2025-07-20T08:41:44.651531Z",
     "shell.execute_reply": "2025-07-20T08:41:44.650617Z"
    },
    "papermill": {
     "duration": 0.017543,
     "end_time": "2025-07-20T08:41:44.653079",
     "exception": false,
     "start_time": "2025-07-20T08:41:44.635536",
     "status": "completed"
    },
    "tags": []
   },
   "outputs": [],
   "source": [
    "le = LabelEncoder()\n",
    "df['Sex'] = le.fit_transform(df['Sex'])\n",
    "df['ChestPainType'] = le.fit_transform(df['ChestPainType'])\n",
    "df['RestingECG'] = le.fit_transform(df['RestingECG'])\n",
    "df['ST_Slope'] = le.fit_transform(df['ST_Slope'])\n",
    "df['ExerciseAngina'] = le.fit_transform(df['ExerciseAngina'])"
   ]
  },
  {
   "cell_type": "code",
   "execution_count": 6,
   "id": "76f6e898",
   "metadata": {
    "execution": {
     "iopub.execute_input": "2025-07-20T08:41:44.663612Z",
     "iopub.status.busy": "2025-07-20T08:41:44.663202Z",
     "iopub.status.idle": "2025-07-20T08:41:44.671797Z",
     "shell.execute_reply": "2025-07-20T08:41:44.670801Z"
    },
    "papermill": {
     "duration": 0.015779,
     "end_time": "2025-07-20T08:41:44.673512",
     "exception": false,
     "start_time": "2025-07-20T08:41:44.657733",
     "status": "completed"
    },
    "tags": []
   },
   "outputs": [
    {
     "data": {
      "text/plain": [
       "array([1, 2, 0, 3])"
      ]
     },
     "execution_count": 6,
     "metadata": {},
     "output_type": "execute_result"
    }
   ],
   "source": [
    "df['ChestPainType'].unique()"
   ]
  },
  {
   "cell_type": "code",
   "execution_count": 7,
   "id": "ffd38bd5",
   "metadata": {
    "execution": {
     "iopub.execute_input": "2025-07-20T08:41:44.684218Z",
     "iopub.status.busy": "2025-07-20T08:41:44.683720Z",
     "iopub.status.idle": "2025-07-20T08:41:44.696260Z",
     "shell.execute_reply": "2025-07-20T08:41:44.695342Z"
    },
    "papermill": {
     "duration": 0.019406,
     "end_time": "2025-07-20T08:41:44.697669",
     "exception": false,
     "start_time": "2025-07-20T08:41:44.678263",
     "status": "completed"
    },
    "tags": []
   },
   "outputs": [
    {
     "data": {
      "text/html": [
       "<div>\n",
       "<style scoped>\n",
       "    .dataframe tbody tr th:only-of-type {\n",
       "        vertical-align: middle;\n",
       "    }\n",
       "\n",
       "    .dataframe tbody tr th {\n",
       "        vertical-align: top;\n",
       "    }\n",
       "\n",
       "    .dataframe thead th {\n",
       "        text-align: right;\n",
       "    }\n",
       "</style>\n",
       "<table border=\"1\" class=\"dataframe\">\n",
       "  <thead>\n",
       "    <tr style=\"text-align: right;\">\n",
       "      <th></th>\n",
       "      <th>Age</th>\n",
       "      <th>Sex</th>\n",
       "      <th>ChestPainType</th>\n",
       "      <th>RestingBP</th>\n",
       "      <th>Cholesterol</th>\n",
       "      <th>FastingBS</th>\n",
       "      <th>RestingECG</th>\n",
       "      <th>MaxHR</th>\n",
       "      <th>ExerciseAngina</th>\n",
       "      <th>Oldpeak</th>\n",
       "      <th>ST_Slope</th>\n",
       "      <th>HeartDisease</th>\n",
       "    </tr>\n",
       "  </thead>\n",
       "  <tbody>\n",
       "    <tr>\n",
       "      <th>0</th>\n",
       "      <td>40</td>\n",
       "      <td>1</td>\n",
       "      <td>1</td>\n",
       "      <td>140</td>\n",
       "      <td>289</td>\n",
       "      <td>0</td>\n",
       "      <td>1</td>\n",
       "      <td>172</td>\n",
       "      <td>0</td>\n",
       "      <td>0.0</td>\n",
       "      <td>2</td>\n",
       "      <td>0</td>\n",
       "    </tr>\n",
       "    <tr>\n",
       "      <th>1</th>\n",
       "      <td>49</td>\n",
       "      <td>0</td>\n",
       "      <td>2</td>\n",
       "      <td>160</td>\n",
       "      <td>180</td>\n",
       "      <td>0</td>\n",
       "      <td>1</td>\n",
       "      <td>156</td>\n",
       "      <td>0</td>\n",
       "      <td>1.0</td>\n",
       "      <td>1</td>\n",
       "      <td>1</td>\n",
       "    </tr>\n",
       "    <tr>\n",
       "      <th>2</th>\n",
       "      <td>37</td>\n",
       "      <td>1</td>\n",
       "      <td>1</td>\n",
       "      <td>130</td>\n",
       "      <td>283</td>\n",
       "      <td>0</td>\n",
       "      <td>2</td>\n",
       "      <td>98</td>\n",
       "      <td>0</td>\n",
       "      <td>0.0</td>\n",
       "      <td>2</td>\n",
       "      <td>0</td>\n",
       "    </tr>\n",
       "    <tr>\n",
       "      <th>3</th>\n",
       "      <td>48</td>\n",
       "      <td>0</td>\n",
       "      <td>0</td>\n",
       "      <td>138</td>\n",
       "      <td>214</td>\n",
       "      <td>0</td>\n",
       "      <td>1</td>\n",
       "      <td>108</td>\n",
       "      <td>1</td>\n",
       "      <td>1.5</td>\n",
       "      <td>1</td>\n",
       "      <td>1</td>\n",
       "    </tr>\n",
       "    <tr>\n",
       "      <th>4</th>\n",
       "      <td>54</td>\n",
       "      <td>1</td>\n",
       "      <td>2</td>\n",
       "      <td>150</td>\n",
       "      <td>195</td>\n",
       "      <td>0</td>\n",
       "      <td>1</td>\n",
       "      <td>122</td>\n",
       "      <td>0</td>\n",
       "      <td>0.0</td>\n",
       "      <td>2</td>\n",
       "      <td>0</td>\n",
       "    </tr>\n",
       "  </tbody>\n",
       "</table>\n",
       "</div>"
      ],
      "text/plain": [
       "   Age  Sex  ChestPainType  RestingBP  Cholesterol  FastingBS  RestingECG  \\\n",
       "0   40    1              1        140          289          0           1   \n",
       "1   49    0              2        160          180          0           1   \n",
       "2   37    1              1        130          283          0           2   \n",
       "3   48    0              0        138          214          0           1   \n",
       "4   54    1              2        150          195          0           1   \n",
       "\n",
       "   MaxHR  ExerciseAngina  Oldpeak  ST_Slope  HeartDisease  \n",
       "0    172               0      0.0         2             0  \n",
       "1    156               0      1.0         1             1  \n",
       "2     98               0      0.0         2             0  \n",
       "3    108               1      1.5         1             1  \n",
       "4    122               0      0.0         2             0  "
      ]
     },
     "execution_count": 7,
     "metadata": {},
     "output_type": "execute_result"
    }
   ],
   "source": [
    "df.head()"
   ]
  },
  {
   "cell_type": "code",
   "execution_count": 8,
   "id": "7a0e4f97",
   "metadata": {
    "execution": {
     "iopub.execute_input": "2025-07-20T08:41:44.709065Z",
     "iopub.status.busy": "2025-07-20T08:41:44.708760Z",
     "iopub.status.idle": "2025-07-20T08:41:44.722603Z",
     "shell.execute_reply": "2025-07-20T08:41:44.721435Z"
    },
    "papermill": {
     "duration": 0.022213,
     "end_time": "2025-07-20T08:41:44.724682",
     "exception": false,
     "start_time": "2025-07-20T08:41:44.702469",
     "status": "completed"
    },
    "tags": []
   },
   "outputs": [
    {
     "name": "stdout",
     "output_type": "stream",
     "text": [
      "                     Age       Sex  ChestPainType  RestingBP  Cholesterol  \\\n",
      "Age             1.000000  0.055750      -0.077150   0.254399    -0.095282   \n",
      "Sex             0.055750  1.000000      -0.126559   0.005133    -0.200092   \n",
      "ChestPainType  -0.077150 -0.126559       1.000000  -0.020647     0.067880   \n",
      "RestingBP       0.254399  0.005133      -0.020647   1.000000     0.100893   \n",
      "Cholesterol    -0.095282 -0.200092       0.067880   0.100893     1.000000   \n",
      "FastingBS       0.198039  0.120076      -0.073151   0.070193    -0.260974   \n",
      "RestingECG     -0.007484  0.071552      -0.072537   0.022656    -0.196544   \n",
      "MaxHR          -0.382045 -0.189186       0.289123  -0.112135     0.235792   \n",
      "ExerciseAngina  0.215793  0.190664      -0.354727   0.155101    -0.034166   \n",
      "Oldpeak         0.258612  0.105734      -0.177377   0.164803     0.050148   \n",
      "ST_Slope       -0.268264 -0.150693       0.213521  -0.075162     0.111471   \n",
      "HeartDisease    0.282039  0.305445      -0.386828   0.107589    -0.232741   \n",
      "\n",
      "                FastingBS  RestingECG     MaxHR  ExerciseAngina   Oldpeak  \\\n",
      "Age              0.198039   -0.007484 -0.382045        0.215793  0.258612   \n",
      "Sex              0.120076    0.071552 -0.189186        0.190664  0.105734   \n",
      "ChestPainType   -0.073151   -0.072537  0.289123       -0.354727 -0.177377   \n",
      "RestingBP        0.070193    0.022656 -0.112135        0.155101  0.164803   \n",
      "Cholesterol     -0.260974   -0.196544  0.235792       -0.034166  0.050148   \n",
      "FastingBS        1.000000    0.087050 -0.131438        0.060451  0.052698   \n",
      "RestingECG       0.087050    1.000000 -0.179276        0.077500 -0.020438   \n",
      "MaxHR           -0.131438   -0.179276  1.000000       -0.370425 -0.160691   \n",
      "ExerciseAngina   0.060451    0.077500 -0.370425        1.000000  0.408752   \n",
      "Oldpeak          0.052698   -0.020438 -0.160691        0.408752  1.000000   \n",
      "ST_Slope        -0.175774   -0.006778  0.343419       -0.428706 -0.501921   \n",
      "HeartDisease     0.267291    0.057384 -0.400421        0.494282  0.403951   \n",
      "\n",
      "                ST_Slope  HeartDisease  \n",
      "Age            -0.268264      0.282039  \n",
      "Sex            -0.150693      0.305445  \n",
      "ChestPainType   0.213521     -0.386828  \n",
      "RestingBP      -0.075162      0.107589  \n",
      "Cholesterol     0.111471     -0.232741  \n",
      "FastingBS      -0.175774      0.267291  \n",
      "RestingECG     -0.006778      0.057384  \n",
      "MaxHR           0.343419     -0.400421  \n",
      "ExerciseAngina -0.428706      0.494282  \n",
      "Oldpeak        -0.501921      0.403951  \n",
      "ST_Slope        1.000000     -0.558771  \n",
      "HeartDisease   -0.558771      1.000000  \n"
     ]
    }
   ],
   "source": [
    "corr = df.corr()\n",
    "print(corr)"
   ]
  },
  {
   "cell_type": "code",
   "execution_count": 9,
   "id": "6824f0f1",
   "metadata": {
    "execution": {
     "iopub.execute_input": "2025-07-20T08:41:44.739758Z",
     "iopub.status.busy": "2025-07-20T08:41:44.739037Z",
     "iopub.status.idle": "2025-07-20T08:41:44.748360Z",
     "shell.execute_reply": "2025-07-20T08:41:44.747402Z"
    },
    "papermill": {
     "duration": 0.01878,
     "end_time": "2025-07-20T08:41:44.749817",
     "exception": false,
     "start_time": "2025-07-20T08:41:44.731037",
     "status": "completed"
    },
    "tags": []
   },
   "outputs": [
    {
     "data": {
      "text/plain": [
       "HeartDisease      1.000000\n",
       "ExerciseAngina    0.494282\n",
       "Oldpeak           0.403951\n",
       "Sex               0.305445\n",
       "Age               0.282039\n",
       "FastingBS         0.267291\n",
       "RestingBP         0.107589\n",
       "RestingECG        0.057384\n",
       "Cholesterol      -0.232741\n",
       "ChestPainType    -0.386828\n",
       "MaxHR            -0.400421\n",
       "ST_Slope         -0.558771\n",
       "Name: HeartDisease, dtype: float64"
      ]
     },
     "execution_count": 9,
     "metadata": {},
     "output_type": "execute_result"
    }
   ],
   "source": [
    "corr['HeartDisease'].sort_values(ascending=False)"
   ]
  },
  {
   "cell_type": "code",
   "execution_count": 10,
   "id": "60d558ab",
   "metadata": {
    "execution": {
     "iopub.execute_input": "2025-07-20T08:41:44.763020Z",
     "iopub.status.busy": "2025-07-20T08:41:44.762352Z",
     "iopub.status.idle": "2025-07-20T08:41:44.774022Z",
     "shell.execute_reply": "2025-07-20T08:41:44.773071Z"
    },
    "papermill": {
     "duration": 0.020461,
     "end_time": "2025-07-20T08:41:44.775701",
     "exception": false,
     "start_time": "2025-07-20T08:41:44.755240",
     "status": "completed"
    },
    "tags": []
   },
   "outputs": [],
   "source": [
    "df = df.drop(columns=['RestingECG'])"
   ]
  },
  {
   "cell_type": "code",
   "execution_count": 11,
   "id": "e7761c4b",
   "metadata": {
    "execution": {
     "iopub.execute_input": "2025-07-20T08:41:44.789233Z",
     "iopub.status.busy": "2025-07-20T08:41:44.788673Z",
     "iopub.status.idle": "2025-07-20T08:41:44.793498Z",
     "shell.execute_reply": "2025-07-20T08:41:44.792582Z"
    },
    "papermill": {
     "duration": 0.01234,
     "end_time": "2025-07-20T08:41:44.795060",
     "exception": false,
     "start_time": "2025-07-20T08:41:44.782720",
     "status": "completed"
    },
    "tags": []
   },
   "outputs": [],
   "source": [
    "clf1 = LogisticRegression(random_state=1)\n",
    "clf2 = RandomForestClassifier(random_state=1)\n",
    "clf3 = GaussianNB()"
   ]
  },
  {
   "cell_type": "code",
   "execution_count": 12,
   "id": "fc65f7f9",
   "metadata": {
    "execution": {
     "iopub.execute_input": "2025-07-20T08:41:44.806067Z",
     "iopub.status.busy": "2025-07-20T08:41:44.805755Z",
     "iopub.status.idle": "2025-07-20T08:41:44.817102Z",
     "shell.execute_reply": "2025-07-20T08:41:44.816031Z"
    },
    "papermill": {
     "duration": 0.018652,
     "end_time": "2025-07-20T08:41:44.818710",
     "exception": false,
     "start_time": "2025-07-20T08:41:44.800058",
     "status": "completed"
    },
    "tags": []
   },
   "outputs": [
    {
     "data": {
      "text/html": [
       "<div>\n",
       "<style scoped>\n",
       "    .dataframe tbody tr th:only-of-type {\n",
       "        vertical-align: middle;\n",
       "    }\n",
       "\n",
       "    .dataframe tbody tr th {\n",
       "        vertical-align: top;\n",
       "    }\n",
       "\n",
       "    .dataframe thead th {\n",
       "        text-align: right;\n",
       "    }\n",
       "</style>\n",
       "<table border=\"1\" class=\"dataframe\">\n",
       "  <thead>\n",
       "    <tr style=\"text-align: right;\">\n",
       "      <th></th>\n",
       "      <th>Age</th>\n",
       "      <th>Sex</th>\n",
       "      <th>ChestPainType</th>\n",
       "      <th>RestingBP</th>\n",
       "      <th>Cholesterol</th>\n",
       "      <th>FastingBS</th>\n",
       "      <th>MaxHR</th>\n",
       "      <th>ExerciseAngina</th>\n",
       "      <th>Oldpeak</th>\n",
       "      <th>ST_Slope</th>\n",
       "      <th>HeartDisease</th>\n",
       "    </tr>\n",
       "  </thead>\n",
       "  <tbody>\n",
       "    <tr>\n",
       "      <th>0</th>\n",
       "      <td>40</td>\n",
       "      <td>1</td>\n",
       "      <td>1</td>\n",
       "      <td>140</td>\n",
       "      <td>289</td>\n",
       "      <td>0</td>\n",
       "      <td>172</td>\n",
       "      <td>0</td>\n",
       "      <td>0.0</td>\n",
       "      <td>2</td>\n",
       "      <td>0</td>\n",
       "    </tr>\n",
       "    <tr>\n",
       "      <th>1</th>\n",
       "      <td>49</td>\n",
       "      <td>0</td>\n",
       "      <td>2</td>\n",
       "      <td>160</td>\n",
       "      <td>180</td>\n",
       "      <td>0</td>\n",
       "      <td>156</td>\n",
       "      <td>0</td>\n",
       "      <td>1.0</td>\n",
       "      <td>1</td>\n",
       "      <td>1</td>\n",
       "    </tr>\n",
       "    <tr>\n",
       "      <th>2</th>\n",
       "      <td>37</td>\n",
       "      <td>1</td>\n",
       "      <td>1</td>\n",
       "      <td>130</td>\n",
       "      <td>283</td>\n",
       "      <td>0</td>\n",
       "      <td>98</td>\n",
       "      <td>0</td>\n",
       "      <td>0.0</td>\n",
       "      <td>2</td>\n",
       "      <td>0</td>\n",
       "    </tr>\n",
       "    <tr>\n",
       "      <th>3</th>\n",
       "      <td>48</td>\n",
       "      <td>0</td>\n",
       "      <td>0</td>\n",
       "      <td>138</td>\n",
       "      <td>214</td>\n",
       "      <td>0</td>\n",
       "      <td>108</td>\n",
       "      <td>1</td>\n",
       "      <td>1.5</td>\n",
       "      <td>1</td>\n",
       "      <td>1</td>\n",
       "    </tr>\n",
       "    <tr>\n",
       "      <th>4</th>\n",
       "      <td>54</td>\n",
       "      <td>1</td>\n",
       "      <td>2</td>\n",
       "      <td>150</td>\n",
       "      <td>195</td>\n",
       "      <td>0</td>\n",
       "      <td>122</td>\n",
       "      <td>0</td>\n",
       "      <td>0.0</td>\n",
       "      <td>2</td>\n",
       "      <td>0</td>\n",
       "    </tr>\n",
       "  </tbody>\n",
       "</table>\n",
       "</div>"
      ],
      "text/plain": [
       "   Age  Sex  ChestPainType  RestingBP  Cholesterol  FastingBS  MaxHR  \\\n",
       "0   40    1              1        140          289          0    172   \n",
       "1   49    0              2        160          180          0    156   \n",
       "2   37    1              1        130          283          0     98   \n",
       "3   48    0              0        138          214          0    108   \n",
       "4   54    1              2        150          195          0    122   \n",
       "\n",
       "   ExerciseAngina  Oldpeak  ST_Slope  HeartDisease  \n",
       "0               0      0.0         2             0  \n",
       "1               0      1.0         1             1  \n",
       "2               0      0.0         2             0  \n",
       "3               1      1.5         1             1  \n",
       "4               0      0.0         2             0  "
      ]
     },
     "execution_count": 12,
     "metadata": {},
     "output_type": "execute_result"
    }
   ],
   "source": [
    "df.head()"
   ]
  },
  {
   "cell_type": "code",
   "execution_count": 13,
   "id": "7f67bf30",
   "metadata": {
    "execution": {
     "iopub.execute_input": "2025-07-20T08:41:44.830658Z",
     "iopub.status.busy": "2025-07-20T08:41:44.829791Z",
     "iopub.status.idle": "2025-07-20T08:41:44.835615Z",
     "shell.execute_reply": "2025-07-20T08:41:44.834685Z"
    },
    "papermill": {
     "duration": 0.013281,
     "end_time": "2025-07-20T08:41:44.837181",
     "exception": false,
     "start_time": "2025-07-20T08:41:44.823900",
     "status": "completed"
    },
    "tags": []
   },
   "outputs": [],
   "source": [
    "x = df.drop(columns=['HeartDisease'])\n",
    "y = df['HeartDisease']"
   ]
  },
  {
   "cell_type": "code",
   "execution_count": 14,
   "id": "87a96c25",
   "metadata": {
    "execution": {
     "iopub.execute_input": "2025-07-20T08:41:44.848494Z",
     "iopub.status.busy": "2025-07-20T08:41:44.848178Z",
     "iopub.status.idle": "2025-07-20T08:41:44.855894Z",
     "shell.execute_reply": "2025-07-20T08:41:44.854999Z"
    },
    "papermill": {
     "duration": 0.015163,
     "end_time": "2025-07-20T08:41:44.857457",
     "exception": false,
     "start_time": "2025-07-20T08:41:44.842294",
     "status": "completed"
    },
    "tags": []
   },
   "outputs": [],
   "source": [
    "x_train,x_test,y_train,y_test = train_test_split(x,y,test_size=0.2,random_state=45)"
   ]
  },
  {
   "cell_type": "code",
   "execution_count": 15,
   "id": "5b4c5905",
   "metadata": {
    "execution": {
     "iopub.execute_input": "2025-07-20T08:41:44.868998Z",
     "iopub.status.busy": "2025-07-20T08:41:44.868675Z",
     "iopub.status.idle": "2025-07-20T08:41:44.873015Z",
     "shell.execute_reply": "2025-07-20T08:41:44.872310Z"
    },
    "papermill": {
     "duration": 0.011777,
     "end_time": "2025-07-20T08:41:44.874474",
     "exception": false,
     "start_time": "2025-07-20T08:41:44.862697",
     "status": "completed"
    },
    "tags": []
   },
   "outputs": [],
   "source": [
    "voting = VotingClassifier(estimators=[('clf1',clf1),('clf2',clf2),('clf3',clf3)],voting='hard')"
   ]
  },
  {
   "cell_type": "code",
   "execution_count": 16,
   "id": "168d9807",
   "metadata": {
    "execution": {
     "iopub.execute_input": "2025-07-20T08:41:44.885913Z",
     "iopub.status.busy": "2025-07-20T08:41:44.885581Z",
     "iopub.status.idle": "2025-07-20T08:41:45.583524Z",
     "shell.execute_reply": "2025-07-20T08:41:45.582233Z"
    },
    "papermill": {
     "duration": 0.705586,
     "end_time": "2025-07-20T08:41:45.585311",
     "exception": false,
     "start_time": "2025-07-20T08:41:44.879725",
     "status": "completed"
    },
    "tags": []
   },
   "outputs": [
    {
     "name": "stderr",
     "output_type": "stream",
     "text": [
      "/usr/local/lib/python3.11/dist-packages/sklearn/linear_model/_logistic.py:458: ConvergenceWarning: lbfgs failed to converge (status=1):\n",
      "STOP: TOTAL NO. OF ITERATIONS REACHED LIMIT.\n",
      "\n",
      "Increase the number of iterations (max_iter) or scale the data as shown in:\n",
      "    https://scikit-learn.org/stable/modules/preprocessing.html\n",
      "Please also refer to the documentation for alternative solver options:\n",
      "    https://scikit-learn.org/stable/modules/linear_model.html#logistic-regression\n",
      "  n_iter_i = _check_optimize_result(\n"
     ]
    }
   ],
   "source": [
    "voting.fit(x_train,y_train)\n",
    "y_pred = voting.predict(x_test)"
   ]
  },
  {
   "cell_type": "code",
   "execution_count": 17,
   "id": "74f5a0ff",
   "metadata": {
    "execution": {
     "iopub.execute_input": "2025-07-20T08:41:45.596975Z",
     "iopub.status.busy": "2025-07-20T08:41:45.596307Z",
     "iopub.status.idle": "2025-07-20T08:41:45.602920Z",
     "shell.execute_reply": "2025-07-20T08:41:45.602170Z"
    },
    "papermill": {
     "duration": 0.013779,
     "end_time": "2025-07-20T08:41:45.604249",
     "exception": false,
     "start_time": "2025-07-20T08:41:45.590470",
     "status": "completed"
    },
    "tags": []
   },
   "outputs": [
    {
     "name": "stdout",
     "output_type": "stream",
     "text": [
      "87.5\n"
     ]
    }
   ],
   "source": [
    "print(accuracy_score(y_pred,y_test)*100)"
   ]
  },
  {
   "cell_type": "code",
   "execution_count": 18,
   "id": "9997ef63",
   "metadata": {
    "execution": {
     "iopub.execute_input": "2025-07-20T08:41:45.615861Z",
     "iopub.status.busy": "2025-07-20T08:41:45.615203Z",
     "iopub.status.idle": "2025-07-20T08:41:45.622466Z",
     "shell.execute_reply": "2025-07-20T08:41:45.621513Z"
    },
    "papermill": {
     "duration": 0.014425,
     "end_time": "2025-07-20T08:41:45.623855",
     "exception": false,
     "start_time": "2025-07-20T08:41:45.609430",
     "status": "completed"
    },
    "tags": []
   },
   "outputs": [
    {
     "data": {
      "text/plain": [
       "Age               0\n",
       "Sex               0\n",
       "ChestPainType     0\n",
       "RestingBP         0\n",
       "Cholesterol       0\n",
       "FastingBS         0\n",
       "MaxHR             0\n",
       "ExerciseAngina    0\n",
       "Oldpeak           0\n",
       "ST_Slope          0\n",
       "HeartDisease      0\n",
       "dtype: int64"
      ]
     },
     "execution_count": 18,
     "metadata": {},
     "output_type": "execute_result"
    }
   ],
   "source": [
    "df.isnull().sum()"
   ]
  },
  {
   "cell_type": "code",
   "execution_count": 19,
   "id": "8bab624f",
   "metadata": {
    "execution": {
     "iopub.execute_input": "2025-07-20T08:41:45.635045Z",
     "iopub.status.busy": "2025-07-20T08:41:45.634737Z",
     "iopub.status.idle": "2025-07-20T08:41:45.638289Z",
     "shell.execute_reply": "2025-07-20T08:41:45.637597Z"
    },
    "papermill": {
     "duration": 0.010684,
     "end_time": "2025-07-20T08:41:45.639629",
     "exception": false,
     "start_time": "2025-07-20T08:41:45.628945",
     "status": "completed"
    },
    "tags": []
   },
   "outputs": [],
   "source": [
    "# Bagging \n"
   ]
  },
  {
   "cell_type": "code",
   "execution_count": 20,
   "id": "0daaaa7e",
   "metadata": {
    "execution": {
     "iopub.execute_input": "2025-07-20T08:41:45.651603Z",
     "iopub.status.busy": "2025-07-20T08:41:45.650822Z",
     "iopub.status.idle": "2025-07-20T08:41:45.655467Z",
     "shell.execute_reply": "2025-07-20T08:41:45.654606Z"
    },
    "papermill": {
     "duration": 0.011927,
     "end_time": "2025-07-20T08:41:45.656913",
     "exception": false,
     "start_time": "2025-07-20T08:41:45.644986",
     "status": "completed"
    },
    "tags": []
   },
   "outputs": [],
   "source": [
    "from sklearn.ensemble import BaggingClassifier\n",
    "from sklearn.svm import SVC\n",
    "from sklearn.tree import DecisionTreeClassifier\n",
    "from sklearn.linear_model import LogisticRegression\n",
    "from sklearn.neighbors import KNeighborsClassifier\n"
   ]
  },
  {
   "cell_type": "code",
   "execution_count": 21,
   "id": "3971fdf5",
   "metadata": {
    "execution": {
     "iopub.execute_input": "2025-07-20T08:41:45.668188Z",
     "iopub.status.busy": "2025-07-20T08:41:45.667888Z",
     "iopub.status.idle": "2025-07-20T08:41:58.653671Z",
     "shell.execute_reply": "2025-07-20T08:41:58.652878Z"
    },
    "papermill": {
     "duration": 12.993428,
     "end_time": "2025-07-20T08:41:58.655441",
     "exception": false,
     "start_time": "2025-07-20T08:41:45.662013",
     "status": "completed"
    },
    "tags": []
   },
   "outputs": [
    {
     "name": "stdout",
     "output_type": "stream",
     "text": [
      "DecisionTree + Bagging Accuracy: 0.8207\n",
      "SVC + Bagging Accuracy: 0.6957\n",
      "LogisticRegression + Bagging Accuracy: 0.8478\n",
      "KNN + Bagging Accuracy: 0.6304\n"
     ]
    }
   ],
   "source": [
    "estimators = [\n",
    "    (\"DecisionTree\", DecisionTreeClassifier()),\n",
    "    (\"SVC\", SVC(probability=True)),\n",
    "    (\"LogisticRegression\", LogisticRegression(max_iter=1000)),\n",
    "    (\"KNN\", KNeighborsClassifier())\n",
    "]\n",
    "\n",
    "for name, model in estimators:\n",
    "    clf = BaggingClassifier(estimator=model, n_estimators=8, random_state=42)\n",
    "    clf.fit(x_train, y_train)\n",
    "    y_pred = clf.predict(x_test)\n",
    "    acc = accuracy_score(y_test, y_pred)\n",
    "    print(f\"{name} + Bagging Accuracy: {acc:.4f}\")"
   ]
  },
  {
   "cell_type": "code",
   "execution_count": 22,
   "id": "e8144f83",
   "metadata": {
    "execution": {
     "iopub.execute_input": "2025-07-20T08:41:58.675199Z",
     "iopub.status.busy": "2025-07-20T08:41:58.674832Z",
     "iopub.status.idle": "2025-07-20T08:42:02.532900Z",
     "shell.execute_reply": "2025-07-20T08:42:02.529597Z"
    },
    "papermill": {
     "duration": 3.869791,
     "end_time": "2025-07-20T08:42:02.534637",
     "exception": false,
     "start_time": "2025-07-20T08:41:58.664846",
     "status": "completed"
    },
    "tags": []
   },
   "outputs": [
    {
     "name": "stderr",
     "output_type": "stream",
     "text": [
      "/usr/local/lib/python3.11/dist-packages/sklearn/linear_model/_logistic.py:458: ConvergenceWarning: lbfgs failed to converge (status=1):\n",
      "STOP: TOTAL NO. OF ITERATIONS REACHED LIMIT.\n",
      "\n",
      "Increase the number of iterations (max_iter) or scale the data as shown in:\n",
      "    https://scikit-learn.org/stable/modules/preprocessing.html\n",
      "Please also refer to the documentation for alternative solver options:\n",
      "    https://scikit-learn.org/stable/modules/linear_model.html#logistic-regression\n",
      "  n_iter_i = _check_optimize_result(\n",
      "/usr/local/lib/python3.11/dist-packages/sklearn/linear_model/_logistic.py:458: ConvergenceWarning: lbfgs failed to converge (status=1):\n",
      "STOP: TOTAL NO. OF ITERATIONS REACHED LIMIT.\n",
      "\n",
      "Increase the number of iterations (max_iter) or scale the data as shown in:\n",
      "    https://scikit-learn.org/stable/modules/preprocessing.html\n",
      "Please also refer to the documentation for alternative solver options:\n",
      "    https://scikit-learn.org/stable/modules/linear_model.html#logistic-regression\n",
      "  n_iter_i = _check_optimize_result(\n",
      "/usr/local/lib/python3.11/dist-packages/sklearn/linear_model/_logistic.py:458: ConvergenceWarning: lbfgs failed to converge (status=1):\n",
      "STOP: TOTAL NO. OF ITERATIONS REACHED LIMIT.\n",
      "\n",
      "Increase the number of iterations (max_iter) or scale the data as shown in:\n",
      "    https://scikit-learn.org/stable/modules/preprocessing.html\n",
      "Please also refer to the documentation for alternative solver options:\n",
      "    https://scikit-learn.org/stable/modules/linear_model.html#logistic-regression\n",
      "  n_iter_i = _check_optimize_result(\n",
      "/usr/local/lib/python3.11/dist-packages/sklearn/linear_model/_logistic.py:458: ConvergenceWarning: lbfgs failed to converge (status=1):\n",
      "STOP: TOTAL NO. OF ITERATIONS REACHED LIMIT.\n",
      "\n",
      "Increase the number of iterations (max_iter) or scale the data as shown in:\n",
      "    https://scikit-learn.org/stable/modules/preprocessing.html\n",
      "Please also refer to the documentation for alternative solver options:\n",
      "    https://scikit-learn.org/stable/modules/linear_model.html#logistic-regression\n",
      "  n_iter_i = _check_optimize_result(\n",
      "/usr/local/lib/python3.11/dist-packages/sklearn/linear_model/_logistic.py:458: ConvergenceWarning: lbfgs failed to converge (status=1):\n",
      "STOP: TOTAL NO. OF ITERATIONS REACHED LIMIT.\n",
      "\n",
      "Increase the number of iterations (max_iter) or scale the data as shown in:\n",
      "    https://scikit-learn.org/stable/modules/preprocessing.html\n",
      "Please also refer to the documentation for alternative solver options:\n",
      "    https://scikit-learn.org/stable/modules/linear_model.html#logistic-regression\n",
      "  n_iter_i = _check_optimize_result(\n",
      "/usr/local/lib/python3.11/dist-packages/sklearn/linear_model/_logistic.py:458: ConvergenceWarning: lbfgs failed to converge (status=1):\n",
      "STOP: TOTAL NO. OF ITERATIONS REACHED LIMIT.\n",
      "\n",
      "Increase the number of iterations (max_iter) or scale the data as shown in:\n",
      "    https://scikit-learn.org/stable/modules/preprocessing.html\n",
      "Please also refer to the documentation for alternative solver options:\n",
      "    https://scikit-learn.org/stable/modules/linear_model.html#logistic-regression\n",
      "  n_iter_i = _check_optimize_result(\n",
      "/usr/local/lib/python3.11/dist-packages/sklearn/linear_model/_logistic.py:458: ConvergenceWarning: lbfgs failed to converge (status=1):\n",
      "STOP: TOTAL NO. OF ITERATIONS REACHED LIMIT.\n",
      "\n",
      "Increase the number of iterations (max_iter) or scale the data as shown in:\n",
      "    https://scikit-learn.org/stable/modules/preprocessing.html\n",
      "Please also refer to the documentation for alternative solver options:\n",
      "    https://scikit-learn.org/stable/modules/linear_model.html#logistic-regression\n",
      "  n_iter_i = _check_optimize_result(\n",
      "/usr/local/lib/python3.11/dist-packages/sklearn/linear_model/_logistic.py:458: ConvergenceWarning: lbfgs failed to converge (status=1):\n",
      "STOP: TOTAL NO. OF ITERATIONS REACHED LIMIT.\n",
      "\n",
      "Increase the number of iterations (max_iter) or scale the data as shown in:\n",
      "    https://scikit-learn.org/stable/modules/preprocessing.html\n",
      "Please also refer to the documentation for alternative solver options:\n",
      "    https://scikit-learn.org/stable/modules/linear_model.html#logistic-regression\n",
      "  n_iter_i = _check_optimize_result(\n"
     ]
    },
    {
     "data": {
      "text/html": [
       "<style>#sk-container-id-1 {color: black;background-color: white;}#sk-container-id-1 pre{padding: 0;}#sk-container-id-1 div.sk-toggleable {background-color: white;}#sk-container-id-1 label.sk-toggleable__label {cursor: pointer;display: block;width: 100%;margin-bottom: 0;padding: 0.3em;box-sizing: border-box;text-align: center;}#sk-container-id-1 label.sk-toggleable__label-arrow:before {content: \"▸\";float: left;margin-right: 0.25em;color: #696969;}#sk-container-id-1 label.sk-toggleable__label-arrow:hover:before {color: black;}#sk-container-id-1 div.sk-estimator:hover label.sk-toggleable__label-arrow:before {color: black;}#sk-container-id-1 div.sk-toggleable__content {max-height: 0;max-width: 0;overflow: hidden;text-align: left;background-color: #f0f8ff;}#sk-container-id-1 div.sk-toggleable__content pre {margin: 0.2em;color: black;border-radius: 0.25em;background-color: #f0f8ff;}#sk-container-id-1 input.sk-toggleable__control:checked~div.sk-toggleable__content {max-height: 200px;max-width: 100%;overflow: auto;}#sk-container-id-1 input.sk-toggleable__control:checked~label.sk-toggleable__label-arrow:before {content: \"▾\";}#sk-container-id-1 div.sk-estimator input.sk-toggleable__control:checked~label.sk-toggleable__label {background-color: #d4ebff;}#sk-container-id-1 div.sk-label input.sk-toggleable__control:checked~label.sk-toggleable__label {background-color: #d4ebff;}#sk-container-id-1 input.sk-hidden--visually {border: 0;clip: rect(1px 1px 1px 1px);clip: rect(1px, 1px, 1px, 1px);height: 1px;margin: -1px;overflow: hidden;padding: 0;position: absolute;width: 1px;}#sk-container-id-1 div.sk-estimator {font-family: monospace;background-color: #f0f8ff;border: 1px dotted black;border-radius: 0.25em;box-sizing: border-box;margin-bottom: 0.5em;}#sk-container-id-1 div.sk-estimator:hover {background-color: #d4ebff;}#sk-container-id-1 div.sk-parallel-item::after {content: \"\";width: 100%;border-bottom: 1px solid gray;flex-grow: 1;}#sk-container-id-1 div.sk-label:hover label.sk-toggleable__label {background-color: #d4ebff;}#sk-container-id-1 div.sk-serial::before {content: \"\";position: absolute;border-left: 1px solid gray;box-sizing: border-box;top: 0;bottom: 0;left: 50%;z-index: 0;}#sk-container-id-1 div.sk-serial {display: flex;flex-direction: column;align-items: center;background-color: white;padding-right: 0.2em;padding-left: 0.2em;position: relative;}#sk-container-id-1 div.sk-item {position: relative;z-index: 1;}#sk-container-id-1 div.sk-parallel {display: flex;align-items: stretch;justify-content: center;background-color: white;position: relative;}#sk-container-id-1 div.sk-item::before, #sk-container-id-1 div.sk-parallel-item::before {content: \"\";position: absolute;border-left: 1px solid gray;box-sizing: border-box;top: 0;bottom: 0;left: 50%;z-index: -1;}#sk-container-id-1 div.sk-parallel-item {display: flex;flex-direction: column;z-index: 1;position: relative;background-color: white;}#sk-container-id-1 div.sk-parallel-item:first-child::after {align-self: flex-end;width: 50%;}#sk-container-id-1 div.sk-parallel-item:last-child::after {align-self: flex-start;width: 50%;}#sk-container-id-1 div.sk-parallel-item:only-child::after {width: 0;}#sk-container-id-1 div.sk-dashed-wrapped {border: 1px dashed gray;margin: 0 0.4em 0.5em 0.4em;box-sizing: border-box;padding-bottom: 0.4em;background-color: white;}#sk-container-id-1 div.sk-label label {font-family: monospace;font-weight: bold;display: inline-block;line-height: 1.2em;}#sk-container-id-1 div.sk-label-container {text-align: center;}#sk-container-id-1 div.sk-container {/* jupyter's `normalize.less` sets `[hidden] { display: none; }` but bootstrap.min.css set `[hidden] { display: none !important; }` so we also need the `!important` here to be able to override the default hidden behavior on the sphinx rendered scikit-learn.org. See: https://github.com/scikit-learn/scikit-learn/issues/21755 */display: inline-block !important;position: relative;}#sk-container-id-1 div.sk-text-repr-fallback {display: none;}</style><div id=\"sk-container-id-1\" class=\"sk-top-container\"><div class=\"sk-text-repr-fallback\"><pre>BaggingClassifier(estimator=LogisticRegression(), n_estimators=8)</pre><b>In a Jupyter environment, please rerun this cell to show the HTML representation or trust the notebook. <br />On GitHub, the HTML representation is unable to render, please try loading this page with nbviewer.org.</b></div><div class=\"sk-container\" hidden><div class=\"sk-item sk-dashed-wrapped\"><div class=\"sk-label-container\"><div class=\"sk-label sk-toggleable\"><input class=\"sk-toggleable__control sk-hidden--visually\" id=\"sk-estimator-id-1\" type=\"checkbox\" ><label for=\"sk-estimator-id-1\" class=\"sk-toggleable__label sk-toggleable__label-arrow\">BaggingClassifier</label><div class=\"sk-toggleable__content\"><pre>BaggingClassifier(estimator=LogisticRegression(), n_estimators=8)</pre></div></div></div><div class=\"sk-parallel\"><div class=\"sk-parallel-item\"><div class=\"sk-item\"><div class=\"sk-label-container\"><div class=\"sk-label sk-toggleable\"><input class=\"sk-toggleable__control sk-hidden--visually\" id=\"sk-estimator-id-2\" type=\"checkbox\" ><label for=\"sk-estimator-id-2\" class=\"sk-toggleable__label sk-toggleable__label-arrow\">estimator: LogisticRegression</label><div class=\"sk-toggleable__content\"><pre>LogisticRegression()</pre></div></div></div><div class=\"sk-serial\"><div class=\"sk-item\"><div class=\"sk-estimator sk-toggleable\"><input class=\"sk-toggleable__control sk-hidden--visually\" id=\"sk-estimator-id-3\" type=\"checkbox\" ><label for=\"sk-estimator-id-3\" class=\"sk-toggleable__label sk-toggleable__label-arrow\">LogisticRegression</label><div class=\"sk-toggleable__content\"><pre>LogisticRegression()</pre></div></div></div></div></div></div></div></div></div></div>"
      ],
      "text/plain": [
       "BaggingClassifier(estimator=LogisticRegression(), n_estimators=8)"
      ]
     },
     "execution_count": 22,
     "metadata": {},
     "output_type": "execute_result"
    }
   ],
   "source": [
    "clf2 = BaggingClassifier(estimator=LogisticRegression(),n_estimators=8)\n",
    "clf2.fit(x_train,y_train)"
   ]
  },
  {
   "cell_type": "code",
   "execution_count": 23,
   "id": "84be6253",
   "metadata": {
    "execution": {
     "iopub.execute_input": "2025-07-20T08:42:02.556848Z",
     "iopub.status.busy": "2025-07-20T08:42:02.555998Z",
     "iopub.status.idle": "2025-07-20T08:42:02.569023Z",
     "shell.execute_reply": "2025-07-20T08:42:02.568326Z"
    },
    "papermill": {
     "duration": 0.025497,
     "end_time": "2025-07-20T08:42:02.570661",
     "exception": false,
     "start_time": "2025-07-20T08:42:02.545164",
     "status": "completed"
    },
    "tags": []
   },
   "outputs": [
    {
     "name": "stdout",
     "output_type": "stream",
     "text": [
      "Prediction: Heart Disease\n"
     ]
    },
    {
     "name": "stderr",
     "output_type": "stream",
     "text": [
      "/usr/local/lib/python3.11/dist-packages/sklearn/base.py:439: UserWarning: X does not have valid feature names, but BaggingClassifier was fitted with feature names\n",
      "  warnings.warn(\n"
     ]
    }
   ],
   "source": [
    "import numpy as np \n",
    "sample_input = np.array([[55, 1, 3, 140, 220, 1, 150, 1, 2.3, 1]])  \n",
    "\n",
    "\n",
    "prediction = clf2.predict(sample_input)\n",
    "print(\"Prediction:\", \"Heart Disease\" if prediction[0] == 1 else \"No Heart Disease\")\n"
   ]
  },
  {
   "cell_type": "code",
   "execution_count": null,
   "id": "af79c736",
   "metadata": {
    "papermill": {
     "duration": 0.009641,
     "end_time": "2025-07-20T08:42:02.590467",
     "exception": false,
     "start_time": "2025-07-20T08:42:02.580826",
     "status": "completed"
    },
    "tags": []
   },
   "outputs": [],
   "source": []
  }
 ],
 "metadata": {
  "kaggle": {
   "accelerator": "none",
   "dataSources": [
    {
     "datasetId": 1582403,
     "sourceId": 2603715,
     "sourceType": "datasetVersion"
    }
   ],
   "dockerImageVersionId": 31089,
   "isGpuEnabled": false,
   "isInternetEnabled": false,
   "language": "python",
   "sourceType": "notebook"
  },
  "kernelspec": {
   "display_name": "Python 3",
   "language": "python",
   "name": "python3"
  },
  "language_info": {
   "codemirror_mode": {
    "name": "ipython",
    "version": 3
   },
   "file_extension": ".py",
   "mimetype": "text/x-python",
   "name": "python",
   "nbconvert_exporter": "python",
   "pygments_lexer": "ipython3",
   "version": "3.11.13"
  },
  "papermill": {
   "default_parameters": {},
   "duration": 27.264361,
   "end_time": "2025-07-20T08:42:03.320071",
   "environment_variables": {},
   "exception": null,
   "input_path": "__notebook__.ipynb",
   "output_path": "__notebook__.ipynb",
   "parameters": {},
   "start_time": "2025-07-20T08:41:36.055710",
   "version": "2.6.0"
  }
 },
 "nbformat": 4,
 "nbformat_minor": 5
}
